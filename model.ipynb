{
 "cells": [
  {
   "cell_type": "code",
   "execution_count": 6,
   "id": "ac92b34f",
   "metadata": {},
   "outputs": [
    {
     "name": "stdout",
     "output_type": "stream",
     "text": [
      "Dataset shape: (2000, 7)\n"
     ]
    },
    {
     "data": {
      "text/html": [
       "<div>\n",
       "<style scoped>\n",
       "    .dataframe tbody tr th:only-of-type {\n",
       "        vertical-align: middle;\n",
       "    }\n",
       "\n",
       "    .dataframe tbody tr th {\n",
       "        vertical-align: top;\n",
       "    }\n",
       "\n",
       "    .dataframe thead th {\n",
       "        text-align: right;\n",
       "    }\n",
       "</style>\n",
       "<table border=\"1\" class=\"dataframe\">\n",
       "  <thead>\n",
       "    <tr style=\"text-align: right;\">\n",
       "      <th></th>\n",
       "      <th>Parental Education</th>\n",
       "      <th>Previous Overall Marks</th>\n",
       "      <th>Class Attendance (%)</th>\n",
       "      <th>Extracurricular Activities</th>\n",
       "      <th>Availability of Resources</th>\n",
       "      <th>Motivation Level</th>\n",
       "      <th>Study Hours per Week</th>\n",
       "    </tr>\n",
       "  </thead>\n",
       "  <tbody>\n",
       "    <tr>\n",
       "      <th>0</th>\n",
       "      <td>Bachelor</td>\n",
       "      <td>69</td>\n",
       "      <td>64.610087</td>\n",
       "      <td>Yes</td>\n",
       "      <td>No</td>\n",
       "      <td>3</td>\n",
       "      <td>29</td>\n",
       "    </tr>\n",
       "    <tr>\n",
       "      <th>1</th>\n",
       "      <td>High School</td>\n",
       "      <td>51</td>\n",
       "      <td>50.000000</td>\n",
       "      <td>Yes</td>\n",
       "      <td>No</td>\n",
       "      <td>2</td>\n",
       "      <td>40</td>\n",
       "    </tr>\n",
       "    <tr>\n",
       "      <th>2</th>\n",
       "      <td>Doctorate</td>\n",
       "      <td>98</td>\n",
       "      <td>96.867606</td>\n",
       "      <td>Yes</td>\n",
       "      <td>Yes</td>\n",
       "      <td>4</td>\n",
       "      <td>35</td>\n",
       "    </tr>\n",
       "    <tr>\n",
       "      <th>3</th>\n",
       "      <td>Bachelor</td>\n",
       "      <td>70</td>\n",
       "      <td>71.836828</td>\n",
       "      <td>Yes</td>\n",
       "      <td>No</td>\n",
       "      <td>3</td>\n",
       "      <td>24</td>\n",
       "    </tr>\n",
       "    <tr>\n",
       "      <th>4</th>\n",
       "      <td>Bachelor</td>\n",
       "      <td>62</td>\n",
       "      <td>66.567923</td>\n",
       "      <td>Yes</td>\n",
       "      <td>No</td>\n",
       "      <td>3</td>\n",
       "      <td>40</td>\n",
       "    </tr>\n",
       "  </tbody>\n",
       "</table>\n",
       "</div>"
      ],
      "text/plain": [
       "  Parental Education  Previous Overall Marks  Class Attendance (%)  \\\n",
       "0           Bachelor                      69             64.610087   \n",
       "1        High School                      51             50.000000   \n",
       "2          Doctorate                      98             96.867606   \n",
       "3           Bachelor                      70             71.836828   \n",
       "4           Bachelor                      62             66.567923   \n",
       "\n",
       "  Extracurricular Activities Availability of Resources  Motivation Level  \\\n",
       "0                        Yes                        No                 3   \n",
       "1                        Yes                        No                 2   \n",
       "2                        Yes                       Yes                 4   \n",
       "3                        Yes                        No                 3   \n",
       "4                        Yes                        No                 3   \n",
       "\n",
       "   Study Hours per Week  \n",
       "0                    29  \n",
       "1                    40  \n",
       "2                    35  \n",
       "3                    24  \n",
       "4                    40  "
      ]
     },
     "execution_count": 6,
     "metadata": {},
     "output_type": "execute_result"
    }
   ],
   "source": [
    "# Import libraries\n",
    "import numpy as np\n",
    "import pandas as pd\n",
    "import joblib, math, os\n",
    "import matplotlib.pyplot as plt\n",
    "import seaborn as sns\n",
    "from sklearn.model_selection import train_test_split, KFold, cross_validate\n",
    "from sklearn.pipeline import Pipeline\n",
    "from scipy import stats\n",
    "from sklearn.compose import ColumnTransformer\n",
    "from sklearn.impute import SimpleImputer\n",
    "from sklearn.preprocessing import OneHotEncoder, StandardScaler\n",
    "from sklearn.linear_model import LinearRegression\n",
    "from sklearn.ensemble import RandomForestRegressor, GradientBoostingRegressor\n",
    "from sklearn.tree import DecisionTreeRegressor\n",
    "from sklearn.metrics import mean_absolute_error, mean_squared_error, r2_score\n",
    "\n",
    "# Set random seed for reproducibility\n",
    "RND_SEED = 42\n",
    "np.random.seed(RND_SEED)\n",
    "\n",
    "# Load data\n",
    "df = pd.read_csv(r\"C:\\Users\\user\\Desktop\\data_prediction\\data_prediction_data.csv\")\n",
    "print(\"Dataset shape:\", df.shape)\n",
    "df.head()"
   ]
  },
  {
   "cell_type": "code",
   "execution_count": 7,
   "id": "bb681a53",
   "metadata": {},
   "outputs": [
    {
     "name": "stdout",
     "output_type": "stream",
     "text": [
      "<class 'pandas.core.frame.DataFrame'>\n",
      "RangeIndex: 2000 entries, 0 to 1999\n",
      "Data columns (total 7 columns):\n",
      " #   Column                      Non-Null Count  Dtype  \n",
      "---  ------                      --------------  -----  \n",
      " 0   Parental Education          2000 non-null   object \n",
      " 1   Previous Overall Marks      2000 non-null   int64  \n",
      " 2   Class Attendance (%)        2000 non-null   float64\n",
      " 3   Extracurricular Activities  2000 non-null   object \n",
      " 4   Availability of Resources   2000 non-null   object \n",
      " 5   Motivation Level            2000 non-null   int64  \n",
      " 6   Study Hours per Week        2000 non-null   int64  \n",
      "dtypes: float64(1), int64(3), object(3)\n",
      "memory usage: 109.5+ KB\n",
      "None\n"
     ]
    }
   ],
   "source": [
    "# Display data info\n",
    "print(df.info())"
   ]
  },
  {
   "cell_type": "code",
   "execution_count": 8,
   "id": "03268b08",
   "metadata": {},
   "outputs": [
    {
     "name": "stdout",
     "output_type": "stream",
     "text": [
      "       Previous Overall Marks  Class Attendance (%)  Motivation Level  \\\n",
      "count             2000.000000           2000.000000       2000.000000   \n",
      "mean                70.384500             71.371315          3.054500   \n",
      "std                 17.553795             16.445640          0.853753   \n",
      "min                 40.000000             50.000000          2.000000   \n",
      "25%                 55.000000             55.499748          2.000000   \n",
      "50%                 70.000000             70.654791          3.000000   \n",
      "75%                 85.000000             85.665952          4.000000   \n",
      "max                100.000000            100.000000          5.000000   \n",
      "\n",
      "       Study Hours per Week  \n",
      "count           2000.000000  \n",
      "mean              30.945000  \n",
      "std                8.752558  \n",
      "min               10.000000  \n",
      "25%               24.000000  \n",
      "50%               33.000000  \n",
      "75%               40.000000  \n",
      "max               40.000000  \n"
     ]
    }
   ],
   "source": [
    "print(df.describe())"
   ]
  },
  {
   "cell_type": "code",
   "execution_count": 9,
   "id": "192370c3",
   "metadata": {},
   "outputs": [
    {
     "name": "stdout",
     "output_type": "stream",
     "text": [
      "Parental Education             object\n",
      "Previous Overall Marks          int64\n",
      "Class Attendance (%)          float64\n",
      "Extracurricular Activities     object\n",
      "Availability of Resources      object\n",
      "Motivation Level                int64\n",
      "Study Hours per Week            int64\n",
      "dtype: object\n"
     ]
    }
   ],
   "source": [
    "print(df.dtypes)"
   ]
  },
  {
   "cell_type": "code",
   "execution_count": 10,
   "id": "b918ac62",
   "metadata": {},
   "outputs": [
    {
     "data": {
      "text/plain": [
       "['Parental Education',\n",
       " 'Previous Overall Marks',\n",
       " 'Class Attendance (%)',\n",
       " 'Extracurricular Activities',\n",
       " 'Availability of Resources',\n",
       " 'Motivation Level',\n",
       " 'Study Hours per Week']"
      ]
     },
     "execution_count": 10,
     "metadata": {},
     "output_type": "execute_result"
    }
   ],
   "source": [
    "df.columns.to_list()"
   ]
  },
  {
   "cell_type": "code",
   "execution_count": 11,
   "id": "6c8285fe",
   "metadata": {},
   "outputs": [
    {
     "name": "stdout",
     "output_type": "stream",
     "text": [
      "Parental Education  Previous Overall Marks  Class Attendance (%)  Extracurricular Activities  Availability of Resources  Motivation Level  Study Hours per Week\n",
      "Doctorate           97                      100.000000            Yes                         Yes                        4                 40                      9\n",
      "High School         42                      50.000000             Yes                         No                         2                 40                      8\n",
      "Doctorate           100                     100.000000            Yes                         Yes                        5                 40                      6\n",
      "                    99                      100.000000            Yes                         Yes                        4                 40                      4\n",
      "High School         46                      50.000000             No                          No                         2                 40                      4\n",
      "                                                                                                                                                                  ..\n",
      "Master              84                      89.795370             Yes                         Yes                        4                 40                      1\n",
      "                                            92.076878             Yes                         Yes                        4                 39                      1\n",
      "                                            93.978337             Yes                         Yes                        4                 40                      1\n",
      "                    85                      72.188332             Yes                         Yes                        4                 36                      1\n",
      "Bachelor            56                      50.000000             Yes                         No                         2                 38                      1\n",
      "Name: count, Length: 1890, dtype: int64\n"
     ]
    }
   ],
   "source": [
    "print(df.value_counts()) "
   ]
  },
  {
   "cell_type": "code",
   "execution_count": 12,
   "id": "adff3b6d",
   "metadata": {},
   "outputs": [
    {
     "name": "stdout",
     "output_type": "stream",
     "text": [
      "Parental Education            0\n",
      "Previous Overall Marks        0\n",
      "Class Attendance (%)          0\n",
      "Extracurricular Activities    0\n",
      "Availability of Resources     0\n",
      "Motivation Level              0\n",
      "Study Hours per Week          0\n",
      "dtype: int64\n"
     ]
    }
   ],
   "source": [
    "print(df.isnull().sum())"
   ]
  },
  {
   "cell_type": "code",
   "execution_count": 13,
   "id": "2bec25a5",
   "metadata": {},
   "outputs": [
    {
     "name": "stdout",
     "output_type": "stream",
     "text": [
      "Duplicate rows: 110\n"
     ]
    }
   ],
   "source": [
    "# Check for duplicates\n",
    "print(\"Duplicate rows:\", df.duplicated().sum())"
   ]
  },
  {
   "cell_type": "code",
   "execution_count": 14,
   "id": "f1b66fcf",
   "metadata": {},
   "outputs": [
    {
     "data": {
      "text/html": [
       "<div>\n",
       "<style scoped>\n",
       "    .dataframe tbody tr th:only-of-type {\n",
       "        vertical-align: middle;\n",
       "    }\n",
       "\n",
       "    .dataframe tbody tr th {\n",
       "        vertical-align: top;\n",
       "    }\n",
       "\n",
       "    .dataframe thead th {\n",
       "        text-align: right;\n",
       "    }\n",
       "</style>\n",
       "<table border=\"1\" class=\"dataframe\">\n",
       "  <thead>\n",
       "    <tr style=\"text-align: right;\">\n",
       "      <th></th>\n",
       "      <th>Parental Education</th>\n",
       "      <th>Previous Overall Marks</th>\n",
       "      <th>Class Attendance (%)</th>\n",
       "      <th>Extracurricular Activities</th>\n",
       "      <th>Availability of Resources</th>\n",
       "      <th>Motivation Level</th>\n",
       "      <th>Study Hours per Week</th>\n",
       "    </tr>\n",
       "  </thead>\n",
       "  <tbody>\n",
       "    <tr>\n",
       "      <th>0</th>\n",
       "      <td>Bachelor</td>\n",
       "      <td>69</td>\n",
       "      <td>64.610087</td>\n",
       "      <td>Yes</td>\n",
       "      <td>No</td>\n",
       "      <td>3</td>\n",
       "      <td>29</td>\n",
       "    </tr>\n",
       "    <tr>\n",
       "      <th>1</th>\n",
       "      <td>High School</td>\n",
       "      <td>51</td>\n",
       "      <td>50.000000</td>\n",
       "      <td>Yes</td>\n",
       "      <td>No</td>\n",
       "      <td>2</td>\n",
       "      <td>40</td>\n",
       "    </tr>\n",
       "    <tr>\n",
       "      <th>2</th>\n",
       "      <td>Doctorate</td>\n",
       "      <td>98</td>\n",
       "      <td>96.867606</td>\n",
       "      <td>Yes</td>\n",
       "      <td>Yes</td>\n",
       "      <td>4</td>\n",
       "      <td>35</td>\n",
       "    </tr>\n",
       "    <tr>\n",
       "      <th>3</th>\n",
       "      <td>Bachelor</td>\n",
       "      <td>70</td>\n",
       "      <td>71.836828</td>\n",
       "      <td>Yes</td>\n",
       "      <td>No</td>\n",
       "      <td>3</td>\n",
       "      <td>24</td>\n",
       "    </tr>\n",
       "    <tr>\n",
       "      <th>4</th>\n",
       "      <td>Bachelor</td>\n",
       "      <td>62</td>\n",
       "      <td>66.567923</td>\n",
       "      <td>Yes</td>\n",
       "      <td>No</td>\n",
       "      <td>3</td>\n",
       "      <td>40</td>\n",
       "    </tr>\n",
       "    <tr>\n",
       "      <th>...</th>\n",
       "      <td>...</td>\n",
       "      <td>...</td>\n",
       "      <td>...</td>\n",
       "      <td>...</td>\n",
       "      <td>...</td>\n",
       "      <td>...</td>\n",
       "      <td>...</td>\n",
       "    </tr>\n",
       "    <tr>\n",
       "      <th>1995</th>\n",
       "      <td>Doctorate</td>\n",
       "      <td>92</td>\n",
       "      <td>99.332704</td>\n",
       "      <td>Yes</td>\n",
       "      <td>Yes</td>\n",
       "      <td>4</td>\n",
       "      <td>39</td>\n",
       "    </tr>\n",
       "    <tr>\n",
       "      <th>1996</th>\n",
       "      <td>Master</td>\n",
       "      <td>81</td>\n",
       "      <td>75.442099</td>\n",
       "      <td>Yes</td>\n",
       "      <td>Yes</td>\n",
       "      <td>4</td>\n",
       "      <td>40</td>\n",
       "    </tr>\n",
       "    <tr>\n",
       "      <th>1997</th>\n",
       "      <td>Doctorate</td>\n",
       "      <td>94</td>\n",
       "      <td>93.820872</td>\n",
       "      <td>Yes</td>\n",
       "      <td>Yes</td>\n",
       "      <td>4</td>\n",
       "      <td>32</td>\n",
       "    </tr>\n",
       "    <tr>\n",
       "      <th>1998</th>\n",
       "      <td>Bachelor</td>\n",
       "      <td>68</td>\n",
       "      <td>65.342727</td>\n",
       "      <td>Yes</td>\n",
       "      <td>No</td>\n",
       "      <td>3</td>\n",
       "      <td>40</td>\n",
       "    </tr>\n",
       "    <tr>\n",
       "      <th>1999</th>\n",
       "      <td>Doctorate</td>\n",
       "      <td>90</td>\n",
       "      <td>82.160703</td>\n",
       "      <td>Yes</td>\n",
       "      <td>Yes</td>\n",
       "      <td>4</td>\n",
       "      <td>40</td>\n",
       "    </tr>\n",
       "  </tbody>\n",
       "</table>\n",
       "<p>1890 rows × 7 columns</p>\n",
       "</div>"
      ],
      "text/plain": [
       "     Parental Education  Previous Overall Marks  Class Attendance (%)  \\\n",
       "0              Bachelor                      69             64.610087   \n",
       "1           High School                      51             50.000000   \n",
       "2             Doctorate                      98             96.867606   \n",
       "3              Bachelor                      70             71.836828   \n",
       "4              Bachelor                      62             66.567923   \n",
       "...                 ...                     ...                   ...   \n",
       "1995          Doctorate                      92             99.332704   \n",
       "1996             Master                      81             75.442099   \n",
       "1997          Doctorate                      94             93.820872   \n",
       "1998           Bachelor                      68             65.342727   \n",
       "1999          Doctorate                      90             82.160703   \n",
       "\n",
       "     Extracurricular Activities Availability of Resources  Motivation Level  \\\n",
       "0                           Yes                        No                 3   \n",
       "1                           Yes                        No                 2   \n",
       "2                           Yes                       Yes                 4   \n",
       "3                           Yes                        No                 3   \n",
       "4                           Yes                        No                 3   \n",
       "...                         ...                       ...               ...   \n",
       "1995                        Yes                       Yes                 4   \n",
       "1996                        Yes                       Yes                 4   \n",
       "1997                        Yes                       Yes                 4   \n",
       "1998                        Yes                        No                 3   \n",
       "1999                        Yes                       Yes                 4   \n",
       "\n",
       "      Study Hours per Week  \n",
       "0                       29  \n",
       "1                       40  \n",
       "2                       35  \n",
       "3                       24  \n",
       "4                       40  \n",
       "...                    ...  \n",
       "1995                    39  \n",
       "1996                    40  \n",
       "1997                    32  \n",
       "1998                    40  \n",
       "1999                    40  \n",
       "\n",
       "[1890 rows x 7 columns]"
      ]
     },
     "execution_count": 14,
     "metadata": {},
     "output_type": "execute_result"
    }
   ],
   "source": [
    "df.drop_duplicates()   #Clean up datasets with repeated rows."
   ]
  },
  {
   "cell_type": "code",
   "execution_count": 15,
   "id": "529554f7",
   "metadata": {},
   "outputs": [
    {
     "name": "stdout",
     "output_type": "stream",
     "text": [
      "Data with future marks saved to data_with_future_marks.csv\n",
      "Future marks created\n",
      "   Previous Overall Marks  Future Marks\n",
      "0                      69         61.77\n",
      "1                      51         47.22\n",
      "2                      98        100.00\n",
      "3                      70         65.01\n",
      "4                      62         58.85\n"
     ]
    }
   ],
   "source": [
    "# Helper function to create future marks\n",
    "def create_future_marks(df, prev_col=\"Previous Overall Marks\",\n",
    "                        attendance_col=\"Class Attendance (%)\",\n",
    "                        study_col=\"Study Hours per Week\",\n",
    "                        motivation_col=\"Motivation Level\",\n",
    "                        parent_col=\"Parental Education\",\n",
    "                        extrac_col=\"Extracurricular Activities\",\n",
    "                        resources_col=\"Availability of Resources\",\n",
    "                        seed=42, weights=None, noise_std=2.0, edu_map=None,\n",
    "                        clip=(0, 100), round_decimals=2, save_path=None, verbose=False):\n",
    "    \n",
    "    if weights is None:\n",
    "        weights = {\n",
    "            prev_col: 0.5,\n",
    "            attendance_col: 0.2,\n",
    "            study_col: 0.15,\n",
    "            motivation_col: 3.0,\n",
    "            parent_col: 1.50,\n",
    "            extrac_col: 0.50,\n",
    "            resources_col: 1.50\n",
    "        }\n",
    "    \n",
    "    if edu_map is None:\n",
    "        edu_map = {\n",
    "            \"High School\": 0,\n",
    "            \"Bachelor's\":1,\n",
    "            \"Master's\":2,\n",
    "            \"PhD\":3\n",
    "        }\n",
    "    \n",
    "    np.random.seed(seed)\n",
    "    future_marks = np.zeros(len(df))\n",
    "    \n",
    "    # Calculate weighted sum\n",
    "    for col, weight in weights.items():\n",
    "        if col == parent_col:\n",
    "            # Map education levels to numerical values\n",
    "            future_marks += weight * df[col].map(edu_map).fillna(0) * 20  # Scale to roughly 0-100\n",
    "        elif pd.api.types.is_numeric_dtype(df[col]):\n",
    "            future_marks += weight * df[col]\n",
    "        else:\n",
    "            # For other categorical variables, use label encoding\n",
    "            future_marks += weight * pd.factorize(df[col])[0] * 20\n",
    "    \n",
    "    # Add noise\n",
    "    noise = np.random.normal(0, noise_std, len(df))\n",
    "    future_marks += noise\n",
    "    \n",
    "    # Clip to reasonable range\n",
    "    future_marks = np.clip(future_marks, clip[0], clip[1])\n",
    "    \n",
    "    # Round to specified decimals\n",
    "    future_marks = np.round(future_marks, round_decimals)\n",
    "    \n",
    "    # Add to DataFrame\n",
    "    df[\"Future Marks\"] = future_marks\n",
    "    \n",
    "    if save_path:\n",
    "        df.to_csv(save_path, index=False)\n",
    "        if verbose:\n",
    "            print(f\"Data with future marks saved to {save_path}\")\n",
    "    \n",
    "    return df\n",
    "\n",
    "# Create the target variable\n",
    "df = create_future_marks(\n",
    "    df,\n",
    "verbose=True,\n",
    "save_path=\"data_with_future_marks.csv\" )\n",
    "print(\"Future marks created\")\n",
    "print(df[[\"Previous Overall Marks\", \"Future Marks\"]].head())"
   ]
  },
  {
   "cell_type": "code",
   "execution_count": 16,
   "id": "cb33d41e",
   "metadata": {},
   "outputs": [
    {
     "name": "stdout",
     "output_type": "stream",
     "text": [
      "     Parental Education  Previous Overall Marks  Class Attendance (%)  \\\n",
      "0              Bachelor                      69             64.610087   \n",
      "1           High School                      51             50.000000   \n",
      "2             Doctorate                      98             96.867606   \n",
      "3              Bachelor                      70             71.836828   \n",
      "4              Bachelor                      62             66.567923   \n",
      "...                 ...                     ...                   ...   \n",
      "1995          Doctorate                      92             99.332704   \n",
      "1996             Master                      81             75.442099   \n",
      "1997          Doctorate                      94             93.820872   \n",
      "1998           Bachelor                      68             65.342727   \n",
      "1999          Doctorate                      90             82.160703   \n",
      "\n",
      "     Extracurricular Activities Availability of Resources  Motivation Level  \\\n",
      "0                           Yes                        No                 3   \n",
      "1                           Yes                        No                 2   \n",
      "2                           Yes                       Yes                 4   \n",
      "3                           Yes                        No                 3   \n",
      "4                           Yes                        No                 3   \n",
      "...                         ...                       ...               ...   \n",
      "1995                        Yes                       Yes                 4   \n",
      "1996                        Yes                       Yes                 4   \n",
      "1997                        Yes                       Yes                 4   \n",
      "1998                        Yes                        No                 3   \n",
      "1999                        Yes                       Yes                 4   \n",
      "\n",
      "      Study Hours per Week  Future Marks  \n",
      "0                       29         61.77  \n",
      "1                       40         47.22  \n",
      "2                       35        100.00  \n",
      "3                       24         65.01  \n",
      "4                       40         58.85  \n",
      "...                    ...           ...  \n",
      "1995                    39        100.00  \n",
      "1996                    40        100.00  \n",
      "1997                    32        100.00  \n",
      "1998                    40         61.74  \n",
      "1999                    40        100.00  \n",
      "\n",
      "[2000 rows x 8 columns]\n"
     ]
    }
   ],
   "source": [
    "print(df.fillna(0))  "
   ]
  },
  {
   "cell_type": "code",
   "execution_count": 17,
   "id": "5aa48131",
   "metadata": {},
   "outputs": [
    {
     "name": "stdout",
     "output_type": "stream",
     "text": [
      "Training set: (1600, 7), Test set: (400, 7)\n"
     ]
    }
   ],
   "source": [
    "# Prepare features and target\n",
    "X = df.drop(\"Future Marks\", axis=1)  # Features\n",
    "y = df[\"Future Marks\"]  # Target\n",
    "\n",
    "# Split data\n",
    "X_train, X_test, y_train, y_test = train_test_split(X, y, test_size=0.20, random_state=RND_SEED)\n",
    "print(f\"Training set: {X_train.shape}, Test set: {X_test.shape}\")"
   ]
  },
  {
   "cell_type": "code",
   "execution_count": 29,
   "id": "f3220b76",
   "metadata": {},
   "outputs": [
    {
     "name": "stdout",
     "output_type": "stream",
     "text": [
      "Training Linear Regression model...\n",
      "Linear Regression -> MAE: 2.404, RMSE: 3.011, R²: 0.982\n"
     ]
    },
    {
     "data": {
      "image/png": "[encoded data removed]",
      "text/plain": [
       "<Figure size 1000x600 with 1 Axes>"
      ]
     },
     "metadata": {},
     "output_type": "display_data"
    },
    {
     "name": "stdout",
     "output_type": "stream",
     "text": [
      "\n",
      "Feature Importance Summary:\n",
      "                       Feature  Coefficient  Absolute Importance\n",
      " Availability of Resources_Yes    10.366169            10.366169\n",
      "  Availability of Resources_No   -10.366169            10.366169\n",
      "Parental Education_High School    -7.903002             7.903002\n",
      "     Parental Education_Master     7.542285             7.542285\n",
      "        Previous Overall Marks     5.416187             5.416187\n",
      " Extracurricular Activities_No     2.930909             2.930909\n",
      "Extracurricular Activities_Yes    -2.930909             2.930909\n",
      "  Parental Education_Doctorate     2.823884             2.823884\n",
      "   Parental Education_Bachelor    -2.463167             2.463167\n",
      "              Motivation Level     1.678928             1.678928\n",
      "          Study Hours per Week     0.906548             0.906548\n",
      "          Class Attendance (%)     0.827453             0.827453\n"
     ]
    },
    {
     "data": {
      "text/plain": [
       "<Figure size 800x550 with 0 Axes>"
      ]
     },
     "metadata": {},
     "output_type": "display_data"
    }
   ],
   "source": [
    "# Define feature types\n",
    "num_features = ['Previous Overall Marks', 'Class Attendance (%)', 'Motivation Level', 'Study Hours per Week']\n",
    "cat_features = ['Parental Education', 'Extracurricular Activities', 'Availability of Resources']\n",
    "numeric_transformer = StandardScaler()\n",
    "categorical_transformer = OneHotEncoder(handle_unknown='ignore')\n",
    "\n",
    "# Create preprocessor\n",
    "preprocessor = ColumnTransformer([\n",
    "    (\"num\", numeric_transformer, num_features), \n",
    "    (\"cat\", categorical_transformer, cat_features)\n",
    "], remainder=\"drop\")\n",
    "\n",
    "# Create and fit the linear regression pipeline\n",
    "print(\"Training Linear Regression model...\")\n",
    "linear_pipe = Pipeline([\n",
    "    (\"pre\", preprocessor),\n",
    "    (\"model\", LinearRegression())\n",
    "])\n",
    "\n",
    "# Fit the model\n",
    "linear_pipe.fit(X_train, y_train)\n",
    "\n",
    "# Cross-validate\n",
    "cv = KFold(n_splits=3, shuffle=True, random_state=RND_SEED)\n",
    "scores = cross_validate(linear_pipe, X_train, y_train, cv=cv, n_jobs=1,\n",
    "                        scoring=[\"neg_mean_absolute_error\", \"neg_mean_squared_error\", \"r2\"])\n",
    "\n",
    "# Calculate metrics\n",
    "mae = -scores[\"test_neg_mean_absolute_error\"].mean()\n",
    "rmse = math.sqrt(-scores[\"test_neg_mean_squared_error\"].mean())\n",
    "r2 = scores[\"test_r2\"].mean()\n",
    "\n",
    "print(f\"Linear Regression -> MAE: {mae:.3f}, RMSE: {rmse:.3f}, R²: {r2:.3f}\")\n",
    "\n",
    "# Extract feature names from the preprocessor\n",
    "num_names = num_features\n",
    "cat_names = linear_pipe.named_steps['pre'].named_transformers_['cat'].get_feature_names_out(cat_features)\n",
    "feature_names = list(num_names) + list(cat_names)\n",
    "\n",
    "# For linear regression, we use the absolute coefficients as importance\n",
    "coefficients = linear_pipe.named_steps['model'].coef_\n",
    "importances = np.abs(coefficients)\n",
    "\n",
    "# Sort features by importance\n",
    "indices = np.argsort(importances)[::-1]\n",
    "sorted_features = [feature_names[i] for i in indices]\n",
    "sorted_importances = importances[indices]\n",
    "\n",
    "# Create visualization with all features\n",
    "plt.figure(figsize=(10, max(6, len(feature_names) * 0.3)))  # Dynamic height\n",
    "bars = plt.barh(range(len(feature_names)), sorted_importances, color='skyblue')\n",
    "plt.yticks(range(len(feature_names)), sorted_features)\n",
    "plt.xlabel('Absolute Coefficient Value (Importance)')\n",
    "plt.title('Linear Regression Feature Importances')\n",
    "\n",
    "# Add value labels on bars\n",
    "for i, (bar, value) in enumerate(zip(bars, sorted_importances)):\n",
    "    plt.text(bar.get_width() + 0.01, i, f'{value:.3f}', \n",
    "            va='center', fontsize=8)\n",
    "\n",
    "plt.tight_layout()\n",
    "plt.savefig(\"plots/linear_regression_feature_importances.png\", dpi=300, bbox_inches='tight')\n",
    "plt.show()\n",
    "\n",
    "# Create a summary table\n",
    "importance_df = pd.DataFrame({\n",
    "    'Feature': sorted_features,\n",
    "    'Coefficient': coefficients[indices],\n",
    "    'Absolute Importance': sorted_importances\n",
    "})\n",
    "print(\"\\nFeature Importance Summary:\")\n",
    "print(importance_df.to_string(index=False))\n",
    "plt.savefig(\"plots/Linear_regression_feature_importances.png\", dpi=300, bbox_inches='tight')\n",
    "plt.show()"
   ]
  },
  {
   "cell_type": "code",
   "execution_count": 19,
   "id": "ebb4b57b",
   "metadata": {},
   "outputs": [
    {
     "name": "stdout",
     "output_type": "stream",
     "text": [
      "Linear Regression trained on full dataset.\n"
     ]
    }
   ],
   "source": [
    "# Train on full dataset\n",
    "linear_pipe.fit(X, y)\n",
    "print(\"Linear Regression trained on full dataset.\")\n"
   ]
  },
  {
   "cell_type": "code",
   "execution_count": 25,
   "id": "f25ddd75",
   "metadata": {},
   "outputs": [
    {
     "data": {
      "image/png": "[encoded data removed]",
      "text/plain": [
       "<Figure size 1000x600 with 1 Axes>"
      ]
     },
     "metadata": {},
     "output_type": "display_data"
    }
   ],
   "source": [
    "# Predict on test set\n",
    "y_pred = linear_pipe.predict(X_test)\n",
    "\n",
    "# Actual vs Predicted plot\n",
    "plt.figure(figsize=(10, 6))\n",
    "plt.scatter(y_test, y_pred, alpha=0.6)\n",
    "min_val = min(y_test.min(), y_pred.min())\n",
    "max_val = max(y_test.max(), y_pred.max())\n",
    "plt.plot([min_val, max_val], [min_val, max_val], 'r--', lw=2)\n",
    "plt.xlabel(\"Actual\")\n",
    "plt.ylabel(\"Predicted\")\n",
    "plt.title(\"Actual vs Predicted - Linear Regression\")\n",
    "plt.tight_layout()\n",
    "plt.savefig(\"plots/actual2_vs_predicted2.png\", dpi=300, bbox_inches='tight')\n",
    "plt.show()"
   ]
  },
  {
   "cell_type": "code",
   "execution_count": 28,
   "id": "fe471142",
   "metadata": {},
   "outputs": [
    {
     "data": {
      "image/png": "[encoded data removed]",
      "text/plain": [
       "<Figure size 1000x600 with 1 Axes>"
      ]
     },
     "metadata": {},
     "output_type": "display_data"
    }
   ],
   "source": [
    "# Residuals plot\n",
    "plt.figure(figsize=(10, 6))\n",
    "residuals = y_test - y_pred\n",
    "plt.hist(residuals, bins=30, edgecolor='black')\n",
    "plt.xlabel(\"Residuals\")\n",
    "plt.ylabel(\"Frequency\")\n",
    "plt.title(\"Residuals Distribution - Linear Regression\")\n",
    "plt.tight_layout()\n",
    "plt.savefig(\"plots/residuals2_hist.png\", dpi=300, bbox_inches='tight')\n",
    "plt.show()"
   ]
  },
  {
   "cell_type": "code",
   "execution_count": null,
   "id": "d4236ea8",
   "metadata": {},
   "outputs": [
    {
     "name": "stdout",
     "output_type": "stream",
     "text": [
      "Pipeline saved as 'linear_regression_pipeline.pkl'.\n"
     ]
    }
   ],
   "source": [
    "import joblib\n",
    "joblib.dump(linear_pipe, \"linear_regression_pipeline.pkl\")\n",
    "print(\"Pipeline saved as 'linear_regression_pipeline.pkl'.\")\n"
   ]
  }
 ],
 "metadata": {
  "kernelspec": {
   "display_name": "Python 3",
   "language": "python",
   "name": "python3"
  },
  "language_info": {
   "codemirror_mode": {
    "name": "ipython",
    "version": 3
   },
   "file_extension": ".py",
   "mimetype": "text/x-python",
   "name": "python",
   "nbconvert_exporter": "python",
   "pygments_lexer": "ipython3",
   "version": "3.13.3"
  }
 },
 "nbformat": 4,
 "nbformat_minor": 5
}
