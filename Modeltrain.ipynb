{
 "cells": [
  {
   "cell_type": "code",
   "execution_count": 2,
   "id": "6f9007e6",
   "metadata": {},
   "outputs": [
    {
     "name": "stdout",
     "output_type": "stream",
     "text": [
      "Dataset shape: (2000, 7)\n"
     ]
    },
    {
     "data": {
      "text/html": [
       "<div>\n",
       "<style scoped>\n",
       "    .dataframe tbody tr th:only-of-type {\n",
       "        vertical-align: middle;\n",
       "    }\n",
       "\n",
       "    .dataframe tbody tr th {\n",
       "        vertical-align: top;\n",
       "    }\n",
       "\n",
       "    .dataframe thead th {\n",
       "        text-align: right;\n",
       "    }\n",
       "</style>\n",
       "<table border=\"1\" class=\"dataframe\">\n",
       "  <thead>\n",
       "    <tr style=\"text-align: right;\">\n",
       "      <th></th>\n",
       "      <th>Parental Education</th>\n",
       "      <th>Previous Overall Marks</th>\n",
       "      <th>Class Attendance (%)</th>\n",
       "      <th>Extracurricular Activities</th>\n",
       "      <th>Availability of Resources</th>\n",
       "      <th>Motivation Level</th>\n",
       "      <th>Study Hours per Week</th>\n",
       "    </tr>\n",
       "  </thead>\n",
       "  <tbody>\n",
       "    <tr>\n",
       "      <th>0</th>\n",
       "      <td>Bachelor</td>\n",
       "      <td>69</td>\n",
       "      <td>64.610087</td>\n",
       "      <td>Yes</td>\n",
       "      <td>No</td>\n",
       "      <td>3</td>\n",
       "      <td>29</td>\n",
       "    </tr>\n",
       "    <tr>\n",
       "      <th>1</th>\n",
       "      <td>High School</td>\n",
       "      <td>51</td>\n",
       "      <td>50.000000</td>\n",
       "      <td>Yes</td>\n",
       "      <td>No</td>\n",
       "      <td>2</td>\n",
       "      <td>40</td>\n",
       "    </tr>\n",
       "    <tr>\n",
       "      <th>2</th>\n",
       "      <td>Doctorate</td>\n",
       "      <td>98</td>\n",
       "      <td>96.867606</td>\n",
       "      <td>Yes</td>\n",
       "      <td>Yes</td>\n",
       "      <td>4</td>\n",
       "      <td>35</td>\n",
       "    </tr>\n",
       "    <tr>\n",
       "      <th>3</th>\n",
       "      <td>Bachelor</td>\n",
       "      <td>70</td>\n",
       "      <td>71.836828</td>\n",
       "      <td>Yes</td>\n",
       "      <td>No</td>\n",
       "      <td>3</td>\n",
       "      <td>24</td>\n",
       "    </tr>\n",
       "    <tr>\n",
       "      <th>4</th>\n",
       "      <td>Bachelor</td>\n",
       "      <td>62</td>\n",
       "      <td>66.567923</td>\n",
       "      <td>Yes</td>\n",
       "      <td>No</td>\n",
       "      <td>3</td>\n",
       "      <td>40</td>\n",
       "    </tr>\n",
       "  </tbody>\n",
       "</table>\n",
       "</div>"
      ],
      "text/plain": [
       "  Parental Education  Previous Overall Marks  Class Attendance (%)  \\\n",
       "0           Bachelor                      69             64.610087   \n",
       "1        High School                      51             50.000000   \n",
       "2          Doctorate                      98             96.867606   \n",
       "3           Bachelor                      70             71.836828   \n",
       "4           Bachelor                      62             66.567923   \n",
       "\n",
       "  Extracurricular Activities Availability of Resources  Motivation Level  \\\n",
       "0                        Yes                        No                 3   \n",
       "1                        Yes                        No                 2   \n",
       "2                        Yes                       Yes                 4   \n",
       "3                        Yes                        No                 3   \n",
       "4                        Yes                        No                 3   \n",
       "\n",
       "   Study Hours per Week  \n",
       "0                    29  \n",
       "1                    40  \n",
       "2                    35  \n",
       "3                    24  \n",
       "4                    40  "
      ]
     },
     "execution_count": 2,
     "metadata": {},
     "output_type": "execute_result"
    }
   ],
   "source": [
    "# Import libraries\n",
    "import numpy as np\n",
    "import pandas as pd\n",
    "import joblib, math, os\n",
    "import matplotlib.pyplot as plt\n",
    "import seaborn as sns\n",
    "from sklearn.model_selection import train_test_split, KFold, cross_validate\n",
    "from sklearn.pipeline import Pipeline\n",
    "from scipy import stats\n",
    "from sklearn.compose import ColumnTransformer\n",
    "from sklearn.impute import SimpleImputer\n",
    "from sklearn.preprocessing import OneHotEncoder, StandardScaler\n",
    "from sklearn.linear_model import LinearRegression\n",
    "from sklearn.ensemble import RandomForestRegressor, GradientBoostingRegressor\n",
    "from sklearn.tree import DecisionTreeRegressor\n",
    "from sklearn.metrics import mean_absolute_error, mean_squared_error, r2_score\n",
    "\n",
    "# Set random seed for reproducibility\n",
    "RND_SEED = 42\n",
    "np.random.seed(RND_SEED)\n",
    "\n",
    "# Load data\n",
    "df = pd.read_csv(r\"C:\\Users\\user\\Desktop\\data_prediction\\data_prediction_data.csv\")\n",
    "print(\"Dataset shape:\", df.shape)\n",
    "df.head()"
   ]
  },
  {
   "cell_type": "code",
   "execution_count": 3,
   "id": "f24f8fc8",
   "metadata": {},
   "outputs": [
    {
     "name": "stdout",
     "output_type": "stream",
     "text": [
      "       Previous Overall Marks  Class Attendance (%)  Motivation Level  \\\n",
      "count             2000.000000           2000.000000       2000.000000   \n",
      "mean                70.384500             71.371315          3.054500   \n",
      "std                 17.553795             16.445640          0.853753   \n",
      "min                 40.000000             50.000000          2.000000   \n",
      "25%                 55.000000             55.499748          2.000000   \n",
      "50%                 70.000000             70.654791          3.000000   \n",
      "75%                 85.000000             85.665952          4.000000   \n",
      "max                100.000000            100.000000          5.000000   \n",
      "\n",
      "       Study Hours per Week  \n",
      "count           2000.000000  \n",
      "mean              30.945000  \n",
      "std                8.752558  \n",
      "min               10.000000  \n",
      "25%               24.000000  \n",
      "50%               33.000000  \n",
      "75%               40.000000  \n",
      "max               40.000000  \n"
     ]
    }
   ],
   "source": [
    "print(df.describe())"
   ]
  },
  {
   "cell_type": "code",
   "execution_count": 4,
   "id": "dcc09d3a",
   "metadata": {},
   "outputs": [
    {
     "name": "stdout",
     "output_type": "stream",
     "text": [
      "<class 'pandas.core.frame.DataFrame'>\n",
      "RangeIndex: 2000 entries, 0 to 1999\n",
      "Data columns (total 7 columns):\n",
      " #   Column                      Non-Null Count  Dtype  \n",
      "---  ------                      --------------  -----  \n",
      " 0   Parental Education          2000 non-null   object \n",
      " 1   Previous Overall Marks      2000 non-null   int64  \n",
      " 2   Class Attendance (%)        2000 non-null   float64\n",
      " 3   Extracurricular Activities  2000 non-null   object \n",
      " 4   Availability of Resources   2000 non-null   object \n",
      " 5   Motivation Level            2000 non-null   int64  \n",
      " 6   Study Hours per Week        2000 non-null   int64  \n",
      "dtypes: float64(1), int64(3), object(3)\n",
      "memory usage: 109.5+ KB\n",
      "None\n"
     ]
    }
   ],
   "source": [
    "# Display data info\n",
    "print(df.info())"
   ]
  },
  {
   "cell_type": "code",
   "execution_count": 5,
   "id": "892bec4b",
   "metadata": {},
   "outputs": [
    {
     "data": {
      "text/plain": [
       "['Parental Education',\n",
       " 'Previous Overall Marks',\n",
       " 'Class Attendance (%)',\n",
       " 'Extracurricular Activities',\n",
       " 'Availability of Resources',\n",
       " 'Motivation Level',\n",
       " 'Study Hours per Week']"
      ]
     },
     "execution_count": 5,
     "metadata": {},
     "output_type": "execute_result"
    }
   ],
   "source": [
    "df.columns.to_list()"
   ]
  },
  {
   "cell_type": "code",
   "execution_count": 6,
   "id": "ca4105c4",
   "metadata": {},
   "outputs": [
    {
     "name": "stdout",
     "output_type": "stream",
     "text": [
      "Parental Education             object\n",
      "Previous Overall Marks          int64\n",
      "Class Attendance (%)          float64\n",
      "Extracurricular Activities     object\n",
      "Availability of Resources      object\n",
      "Motivation Level                int64\n",
      "Study Hours per Week            int64\n",
      "dtype: object\n"
     ]
    }
   ],
   "source": [
    "print(df.dtypes)"
   ]
  },
  {
   "cell_type": "code",
   "execution_count": 7,
   "id": "611b6856",
   "metadata": {},
   "outputs": [
    {
     "name": "stdout",
     "output_type": "stream",
     "text": [
      "Parental Education            0\n",
      "Previous Overall Marks        0\n",
      "Class Attendance (%)          0\n",
      "Extracurricular Activities    0\n",
      "Availability of Resources     0\n",
      "Motivation Level              0\n",
      "Study Hours per Week          0\n",
      "dtype: int64\n"
     ]
    }
   ],
   "source": [
    "print(df.isnull().sum())"
   ]
  },
  {
   "cell_type": "code",
   "execution_count": 8,
   "id": "21bc85bd",
   "metadata": {},
   "outputs": [
    {
     "name": "stdout",
     "output_type": "stream",
     "text": [
      "Parental Education  Previous Overall Marks  Class Attendance (%)  Extracurricular Activities  Availability of Resources  Motivation Level  Study Hours per Week\n",
      "Doctorate           97                      100.000000            Yes                         Yes                        4                 40                      9\n",
      "High School         42                      50.000000             Yes                         No                         2                 40                      8\n",
      "Doctorate           100                     100.000000            Yes                         Yes                        5                 40                      6\n",
      "                    99                      100.000000            Yes                         Yes                        4                 40                      4\n",
      "High School         46                      50.000000             No                          No                         2                 40                      4\n",
      "                                                                                                                                                                  ..\n",
      "Master              84                      89.795370             Yes                         Yes                        4                 40                      1\n",
      "                                            92.076878             Yes                         Yes                        4                 39                      1\n",
      "                                            93.978337             Yes                         Yes                        4                 40                      1\n",
      "                    85                      72.188332             Yes                         Yes                        4                 36                      1\n",
      "Bachelor            56                      50.000000             Yes                         No                         2                 38                      1\n",
      "Name: count, Length: 1890, dtype: int64\n"
     ]
    }
   ],
   "source": [
    "print(df.value_counts()) "
   ]
  },
  {
   "cell_type": "code",
   "execution_count": 9,
   "id": "c3c7bf71",
   "metadata": {},
   "outputs": [
    {
     "name": "stdout",
     "output_type": "stream",
     "text": [
      "Duplicate rows: 110\n"
     ]
    }
   ],
   "source": [
    "# Check for duplicates\n",
    "print(\"Duplicate rows:\", df.duplicated().sum())\n"
   ]
  },
  {
   "cell_type": "code",
   "execution_count": 10,
   "id": "c44a0833",
   "metadata": {},
   "outputs": [
    {
     "data": {
      "text/html": [
       "<div>\n",
       "<style scoped>\n",
       "    .dataframe tbody tr th:only-of-type {\n",
       "        vertical-align: middle;\n",
       "    }\n",
       "\n",
       "    .dataframe tbody tr th {\n",
       "        vertical-align: top;\n",
       "    }\n",
       "\n",
       "    .dataframe thead th {\n",
       "        text-align: right;\n",
       "    }\n",
       "</style>\n",
       "<table border=\"1\" class=\"dataframe\">\n",
       "  <thead>\n",
       "    <tr style=\"text-align: right;\">\n",
       "      <th></th>\n",
       "      <th>Parental Education</th>\n",
       "      <th>Previous Overall Marks</th>\n",
       "      <th>Class Attendance (%)</th>\n",
       "      <th>Extracurricular Activities</th>\n",
       "      <th>Availability of Resources</th>\n",
       "      <th>Motivation Level</th>\n",
       "      <th>Study Hours per Week</th>\n",
       "    </tr>\n",
       "  </thead>\n",
       "  <tbody>\n",
       "    <tr>\n",
       "      <th>0</th>\n",
       "      <td>Bachelor</td>\n",
       "      <td>69</td>\n",
       "      <td>64.610087</td>\n",
       "      <td>Yes</td>\n",
       "      <td>No</td>\n",
       "      <td>3</td>\n",
       "      <td>29</td>\n",
       "    </tr>\n",
       "    <tr>\n",
       "      <th>1</th>\n",
       "      <td>High School</td>\n",
       "      <td>51</td>\n",
       "      <td>50.000000</td>\n",
       "      <td>Yes</td>\n",
       "      <td>No</td>\n",
       "      <td>2</td>\n",
       "      <td>40</td>\n",
       "    </tr>\n",
       "    <tr>\n",
       "      <th>2</th>\n",
       "      <td>Doctorate</td>\n",
       "      <td>98</td>\n",
       "      <td>96.867606</td>\n",
       "      <td>Yes</td>\n",
       "      <td>Yes</td>\n",
       "      <td>4</td>\n",
       "      <td>35</td>\n",
       "    </tr>\n",
       "    <tr>\n",
       "      <th>3</th>\n",
       "      <td>Bachelor</td>\n",
       "      <td>70</td>\n",
       "      <td>71.836828</td>\n",
       "      <td>Yes</td>\n",
       "      <td>No</td>\n",
       "      <td>3</td>\n",
       "      <td>24</td>\n",
       "    </tr>\n",
       "    <tr>\n",
       "      <th>4</th>\n",
       "      <td>Bachelor</td>\n",
       "      <td>62</td>\n",
       "      <td>66.567923</td>\n",
       "      <td>Yes</td>\n",
       "      <td>No</td>\n",
       "      <td>3</td>\n",
       "      <td>40</td>\n",
       "    </tr>\n",
       "    <tr>\n",
       "      <th>...</th>\n",
       "      <td>...</td>\n",
       "      <td>...</td>\n",
       "      <td>...</td>\n",
       "      <td>...</td>\n",
       "      <td>...</td>\n",
       "      <td>...</td>\n",
       "      <td>...</td>\n",
       "    </tr>\n",
       "    <tr>\n",
       "      <th>1995</th>\n",
       "      <td>Doctorate</td>\n",
       "      <td>92</td>\n",
       "      <td>99.332704</td>\n",
       "      <td>Yes</td>\n",
       "      <td>Yes</td>\n",
       "      <td>4</td>\n",
       "      <td>39</td>\n",
       "    </tr>\n",
       "    <tr>\n",
       "      <th>1996</th>\n",
       "      <td>Master</td>\n",
       "      <td>81</td>\n",
       "      <td>75.442099</td>\n",
       "      <td>Yes</td>\n",
       "      <td>Yes</td>\n",
       "      <td>4</td>\n",
       "      <td>40</td>\n",
       "    </tr>\n",
       "    <tr>\n",
       "      <th>1997</th>\n",
       "      <td>Doctorate</td>\n",
       "      <td>94</td>\n",
       "      <td>93.820872</td>\n",
       "      <td>Yes</td>\n",
       "      <td>Yes</td>\n",
       "      <td>4</td>\n",
       "      <td>32</td>\n",
       "    </tr>\n",
       "    <tr>\n",
       "      <th>1998</th>\n",
       "      <td>Bachelor</td>\n",
       "      <td>68</td>\n",
       "      <td>65.342727</td>\n",
       "      <td>Yes</td>\n",
       "      <td>No</td>\n",
       "      <td>3</td>\n",
       "      <td>40</td>\n",
       "    </tr>\n",
       "    <tr>\n",
       "      <th>1999</th>\n",
       "      <td>Doctorate</td>\n",
       "      <td>90</td>\n",
       "      <td>82.160703</td>\n",
       "      <td>Yes</td>\n",
       "      <td>Yes</td>\n",
       "      <td>4</td>\n",
       "      <td>40</td>\n",
       "    </tr>\n",
       "  </tbody>\n",
       "</table>\n",
       "<p>1890 rows × 7 columns</p>\n",
       "</div>"
      ],
      "text/plain": [
       "     Parental Education  Previous Overall Marks  Class Attendance (%)  \\\n",
       "0              Bachelor                      69             64.610087   \n",
       "1           High School                      51             50.000000   \n",
       "2             Doctorate                      98             96.867606   \n",
       "3              Bachelor                      70             71.836828   \n",
       "4              Bachelor                      62             66.567923   \n",
       "...                 ...                     ...                   ...   \n",
       "1995          Doctorate                      92             99.332704   \n",
       "1996             Master                      81             75.442099   \n",
       "1997          Doctorate                      94             93.820872   \n",
       "1998           Bachelor                      68             65.342727   \n",
       "1999          Doctorate                      90             82.160703   \n",
       "\n",
       "     Extracurricular Activities Availability of Resources  Motivation Level  \\\n",
       "0                           Yes                        No                 3   \n",
       "1                           Yes                        No                 2   \n",
       "2                           Yes                       Yes                 4   \n",
       "3                           Yes                        No                 3   \n",
       "4                           Yes                        No                 3   \n",
       "...                         ...                       ...               ...   \n",
       "1995                        Yes                       Yes                 4   \n",
       "1996                        Yes                       Yes                 4   \n",
       "1997                        Yes                       Yes                 4   \n",
       "1998                        Yes                        No                 3   \n",
       "1999                        Yes                       Yes                 4   \n",
       "\n",
       "      Study Hours per Week  \n",
       "0                       29  \n",
       "1                       40  \n",
       "2                       35  \n",
       "3                       24  \n",
       "4                       40  \n",
       "...                    ...  \n",
       "1995                    39  \n",
       "1996                    40  \n",
       "1997                    32  \n",
       "1998                    40  \n",
       "1999                    40  \n",
       "\n",
       "[1890 rows x 7 columns]"
      ]
     },
     "execution_count": 10,
     "metadata": {},
     "output_type": "execute_result"
    }
   ],
   "source": [
    "df.drop_duplicates()   #Clean up datasets with repeated rows."
   ]
  },
  {
   "cell_type": "code",
   "execution_count": 11,
   "id": "b4bd83de",
   "metadata": {},
   "outputs": [
    {
     "name": "stdout",
     "output_type": "stream",
     "text": [
      "Data with future marks saved to data_with_future_marks.csv\n",
      "Future marks created\n",
      "   Previous Overall Marks  Future Marks\n",
      "0                      69         61.77\n",
      "1                      51         47.22\n",
      "2                      98        100.00\n",
      "3                      70         65.01\n",
      "4                      62         58.85\n"
     ]
    }
   ],
   "source": [
    "# Helper function to create future marks\n",
    "def create_future_marks(df, prev_col=\"Previous Overall Marks\",\n",
    "                        attendance_col=\"Class Attendance (%)\",\n",
    "                        study_col=\"Study Hours per Week\",\n",
    "                        motivation_col=\"Motivation Level\",\n",
    "                        parent_col=\"Parental Education\",\n",
    "                        extrac_col=\"Extracurricular Activities\",\n",
    "                        resources_col=\"Availability of Resources\",\n",
    "                        seed=42, weights=None, noise_std=2.0, edu_map=None,\n",
    "                        clip=(0, 100), round_decimals=2, save_path=None, verbose=False):\n",
    "    \n",
    "    if weights is None:\n",
    "        weights = {\n",
    "            prev_col: 0.5,\n",
    "            attendance_col: 0.2,\n",
    "            study_col: 0.15,\n",
    "            motivation_col: 3.0,\n",
    "            parent_col: 1.50,\n",
    "            extrac_col: 0.50,\n",
    "            resources_col: 1.50\n",
    "        }\n",
    "    \n",
    "    if edu_map is None:\n",
    "        edu_map = {\n",
    "            \"High School\": 0,\n",
    "            \"Bachelor's\":1,\n",
    "            \"Master's\":2,\n",
    "            \"PhD\":3\n",
    "        }\n",
    "    \n",
    "    np.random.seed(seed)\n",
    "    future_marks = np.zeros(len(df))\n",
    "    \n",
    "    # Calculate weighted sum\n",
    "    for col, weight in weights.items():\n",
    "        if col == parent_col:\n",
    "            # Map education levels to numerical values\n",
    "            future_marks += weight * df[col].map(edu_map).fillna(0) * 20  # Scale to roughly 0-100\n",
    "        elif pd.api.types.is_numeric_dtype(df[col]):\n",
    "            future_marks += weight * df[col]\n",
    "        else:\n",
    "            # For other categorical variables, use label encoding\n",
    "            future_marks += weight * pd.factorize(df[col])[0] * 20\n",
    "    \n",
    "    # Add noise\n",
    "    noise = np.random.normal(0, noise_std, len(df))\n",
    "    future_marks += noise\n",
    "    \n",
    "    # Clip to reasonable range\n",
    "    future_marks = np.clip(future_marks, clip[0], clip[1])\n",
    "    \n",
    "    # Round to specified decimals\n",
    "    future_marks = np.round(future_marks, round_decimals)\n",
    "    \n",
    "    # Add to DataFrame\n",
    "    df[\"Future Marks\"] = future_marks\n",
    "    \n",
    "    if save_path:\n",
    "        df.to_csv(save_path, index=False)\n",
    "        if verbose:\n",
    "            print(f\"Data with future marks saved to {save_path}\")\n",
    "    \n",
    "    return df\n",
    "\n",
    "# Create the target variable\n",
    "df = create_future_marks(\n",
    "    df,\n",
    "verbose=True,\n",
    "save_path=\"data_with_future_marks.csv\" )\n",
    "print(\"Future marks created\")\n",
    "print(df[[\"Previous Overall Marks\", \"Future Marks\"]].head())"
   ]
  },
  {
   "cell_type": "code",
   "execution_count": 12,
   "id": "39e3fd2b",
   "metadata": {},
   "outputs": [
    {
     "name": "stdout",
     "output_type": "stream",
     "text": [
      "     Parental Education  Previous Overall Marks  Class Attendance (%)  \\\n",
      "0              Bachelor                      69             64.610087   \n",
      "1           High School                      51             50.000000   \n",
      "2             Doctorate                      98             96.867606   \n",
      "3              Bachelor                      70             71.836828   \n",
      "4              Bachelor                      62             66.567923   \n",
      "...                 ...                     ...                   ...   \n",
      "1995          Doctorate                      92             99.332704   \n",
      "1996             Master                      81             75.442099   \n",
      "1997          Doctorate                      94             93.820872   \n",
      "1998           Bachelor                      68             65.342727   \n",
      "1999          Doctorate                      90             82.160703   \n",
      "\n",
      "     Extracurricular Activities Availability of Resources  Motivation Level  \\\n",
      "0                           Yes                        No                 3   \n",
      "1                           Yes                        No                 2   \n",
      "2                           Yes                       Yes                 4   \n",
      "3                           Yes                        No                 3   \n",
      "4                           Yes                        No                 3   \n",
      "...                         ...                       ...               ...   \n",
      "1995                        Yes                       Yes                 4   \n",
      "1996                        Yes                       Yes                 4   \n",
      "1997                        Yes                       Yes                 4   \n",
      "1998                        Yes                        No                 3   \n",
      "1999                        Yes                       Yes                 4   \n",
      "\n",
      "      Study Hours per Week  Future Marks  \n",
      "0                       29         61.77  \n",
      "1                       40         47.22  \n",
      "2                       35        100.00  \n",
      "3                       24         65.01  \n",
      "4                       40         58.85  \n",
      "...                    ...           ...  \n",
      "1995                    39        100.00  \n",
      "1996                    40        100.00  \n",
      "1997                    32        100.00  \n",
      "1998                    40         61.74  \n",
      "1999                    40        100.00  \n",
      "\n",
      "[2000 rows x 8 columns]\n"
     ]
    }
   ],
   "source": [
    "print(df.fillna(0))    #replaces all missing values (NaN) in the DataFrame df with 0"
   ]
  },
  {
   "cell_type": "code",
   "execution_count": 13,
   "id": "88000eb5",
   "metadata": {},
   "outputs": [
    {
     "name": "stdout",
     "output_type": "stream",
     "text": [
      "Training set: (1600, 7), Test set: (400, 7)\n"
     ]
    }
   ],
   "source": [
    "# Prepare features and target\n",
    "X = df.drop(\"Future Marks\", axis=1)  # Features\n",
    "y = df[\"Future Marks\"]  # Target\n",
    "\n",
    "# Split data\n",
    "X_train, X_test, y_train, y_test = train_test_split(X, y, test_size=0.20, random_state=RND_SEED)\n",
    "print(f\"Training set: {X_train.shape}, Test set: {X_test.shape}\")"
   ]
  },
  {
   "cell_type": "code",
   "execution_count": 14,
   "id": "23ddf697",
   "metadata": {},
   "outputs": [
    {
     "name": "stdout",
     "output_type": "stream",
     "text": [
      "Evaluating multiple regression models...\n"
     ]
    },
    {
     "name": "stdout",
     "output_type": "stream",
     "text": [
      "Linear Regression    -> MAE: 2.404, RMSE: 3.011, R²: 0.982\n",
      "Random Forest        -> MAE: 1.015, RMSE: 1.659, R²: 0.995\n",
      "Decision Tree        -> MAE: 1.358, RMSE: 2.225, R²: 0.990\n",
      "Gradient Boosting    -> MAE: 1.039, RMSE: 1.599, R²: 0.995\n",
      "\n",
      "Best model: Gradient Boosting\n"
     ]
    }
   ],
   "source": [
    "# Define feature types\n",
    "num_features = ['Previous Overall Marks', 'Class Attendance (%)', 'Motivation Level', 'Study Hours per Week']\n",
    "cat_features = ['Parental Education', 'Extracurricular Activities', 'Availability of Resources']\n",
    "numeric_transformer = StandardScaler()\n",
    "categorical_transformer = OneHotEncoder(handle_unknown='ignore')\n",
    "\n",
    "# Create preprocessor\n",
    "preprocessor = ColumnTransformer([\n",
    "    (\"num\", numeric_transformer, num_features), \n",
    "    (\"cat\", categorical_transformer, cat_features)\n",
    "], remainder=\"drop\")\n",
    "\n",
    "# Define models\n",
    "models = {\n",
    "    \"Linear Regression\": Pipeline([(\"pre\", preprocessor), (\"model\", LinearRegression())]),\n",
    "    \"Random Forest\": Pipeline([(\"pre\", preprocessor), (\"model\", RandomForestRegressor(n_estimators=100, random_state=RND_SEED, n_jobs=1))]),\n",
    "    \"Decision Tree\": Pipeline([(\"pre\", preprocessor), (\"model\", DecisionTreeRegressor(random_state=RND_SEED))]),\n",
    "    \"Gradient Boosting\": Pipeline([(\"pre\", preprocessor), (\"model\", GradientBoostingRegressor(n_estimators=100, random_state=RND_SEED))])\n",
    "}\n",
    "\n",
    "# Cross-validate models\n",
    "cv = KFold(n_splits=3, shuffle=True, random_state=RND_SEED)\n",
    "results = {}\n",
    "\n",
    "print(\"Evaluating multiple regression models...\")\n",
    "for name, pipe in models.items():\n",
    "    scores = cross_validate(pipe, X_train, y_train, cv=cv, n_jobs=1,\n",
    "                            scoring=[\"neg_mean_absolute_error\", \"neg_mean_squared_error\", \"r2\"])\n",
    "    mae = -scores[\"test_neg_mean_absolute_error\"].mean()\n",
    "    rmse = math.sqrt(-scores[\"test_neg_mean_squared_error\"].mean())\n",
    "    r2 = scores[\"test_r2\"].mean()\n",
    "    results[name] = {\"MAE\": mae, \"RMSE\": rmse, \"R2\": r2}\n",
    "    print(f\"{name:20} -> MAE: {mae:.3f}, RMSE: {rmse:.3f}, R²: {r2:.3f}\")\n",
    "\n",
    "# Find the best model based on RMSE\n",
    "best_name = min(results.keys(), key=lambda k: results[k][\"RMSE\"])\n",
    "best_pipe = models[best_name]\n",
    "print(f\"\\nBest model: {best_name}\")"
   ]
  },
  {
   "cell_type": "code",
   "execution_count": 15,
   "id": "4798f43b",
   "metadata": {},
   "outputs": [],
   "source": [
    "# Preprocessing pipelines\n",
    "# Define feature types\n",
    "num_features = ['Previous Overall Marks', 'Class Attendance (%)', 'Motivation Level', 'Study Hours per Week']\n",
    "cat_features = ['Parental Education', 'Extracurricular Activities', 'Availability of Resources']\n",
    "numeric_transformer = StandardScaler()\n",
    "\n",
    "categorical_transformer = OneHotEncoder(handle_unknown='ignore')\n",
    "\n",
    "# Create preprocessor\n",
    "preprocessor = ColumnTransformer([\n",
    "    (\"num\", numeric_transformer, num_features), \n",
    "    (\"cat\", categorical_transformer, cat_features)\n",
    "], remainder=\"drop\")\n",
    "\n",
    "# Feature importance (if applicable)\n",
    "if hasattr(best_pipe.named_steps['model'], 'feature_importances_'):\n",
    "    # Define numeric and categorical features\n",
    "    num_features = ['Previous Overall Marks', 'Class Attendance (%)', 'Motivation Level', 'Study Hours per Week']\n",
    "    cat_features = ['Parental Education', 'Extracurricular Activities', 'Availability of Resources']\n",
    "    \n",
    "    num_names = num_features\n",
    "    cat_names = best_pipe.named_steps['pre'].named_transformers_['cat'].get_feature_names_out(cat_features)\n",
    "    feature_names = list(num_names) + list(cat_names)\n",
    "\n",
    "    # Get feature names after preprocessing\n",
    "    feature_names = []\n",
    "    if num_features:\n",
    "        feature_names.extend(num_features)\n",
    "    if cat_features:\n",
    "        # Get one-hot encoded feature names\n",
    "        ohe = best_pipe.named_steps['pre'].named_transformers_['cat']\n",
    "        cat_feature_names = ohe.get_feature_names_out(cat_features)\n",
    "        feature_names.extend(cat_feature_names)\n",
    "    \n",
    "    # Get feature importances\n",
    "    importances = best_pipe.named_steps['model'].feature_importances_\n",
    "    indices = np.argsort(importances)[::-1]\n",
    "    \n",
    "    # Plot feature importances\n",
    "    plt.figure(figsize=(12, 8))\n",
    "    plt.title(\"Feature Importances\")\n",
    "    plt.barh(range(min(15, len(indices))), importances[indices][:15][::-1], color='skyblue', align='center')\n",
    "    plt.yticks(range(min(15, len(indices))), [feature_names[i] for i in indices[:15][::-1]])\n",
    "    plt.xlabel('Relative Importance')\n",
    "    plt.tight_layout()\n",
    "    plt.savefig(\"plots/feature_importances.png\", dpi=300, bbox_inches='tight')\n",
    "    plt.show()"
   ]
  },
  {
   "cell_type": "code",
   "execution_count": 18,
   "id": "50788bf7",
   "metadata": {},
   "outputs": [
    {
     "data": {
      "image/png": "[encoded data removed]",
      "text/plain": [
       "<Figure size 1000x600 with 1 Axes>"
      ]
     },
     "metadata": {},
     "output_type": "display_data"
    },
    {
     "name": "stdout",
     "output_type": "stream",
     "text": [
      "                       Feature   Importance\n",
      " Availability of Resources_Yes 7.805679e-01\n",
      "        Previous Overall Marks 1.048588e-01\n",
      "  Availability of Resources_No 7.369411e-02\n",
      " Extracurricular Activities_No 1.543164e-02\n",
      "          Class Attendance (%) 1.270380e-02\n",
      "Extracurricular Activities_Yes 6.186241e-03\n",
      "              Motivation Level 3.436659e-03\n",
      "          Study Hours per Week 2.564745e-03\n",
      "   Parental Education_Bachelor 5.256194e-04\n",
      "     Parental Education_Master 3.044440e-05\n",
      "  Parental Education_Doctorate 1.166308e-07\n",
      "Parental Education_High School 0.000000e+00\n"
     ]
    }
   ],
   "source": [
    "# Ensure the pipeline is fitted before accessing feature importances\n",
    "if not hasattr(best_pipe.named_steps['model'], \"feature_importances_\"):\n",
    "    best_pipe.fit(X_train, y_train)\n",
    "\n",
    "# Get feature importances and names\n",
    "importances = best_pipe.named_steps['model'].feature_importances_\n",
    "num_names = num_features\n",
    "cat_names = best_pipe.named_steps['pre'].named_transformers_['cat'].get_feature_names_out(cat_features)\n",
    "feature_names = list(num_names) + list(cat_names)\n",
    "\n",
    "# Sort features by importance\n",
    "indices = np.argsort(importances)[::-1]\n",
    "sorted_features = [feature_names[i] for i in indices]\n",
    "sorted_importances = importances[indices]\n",
    "\n",
    "# Create visualization with all features\n",
    "plt.figure(figsize=(10, max(6, len(feature_names) * 0.25)))  # Dynamic height based on number of features\n",
    "bars = plt.barh(range(len(feature_names)), sorted_importances, color='skyblue')\n",
    "plt.yticks(range(len(feature_names)), sorted_features)\n",
    "plt.xlabel('Relative Importance')\n",
    "plt.title('Feature Importances (All Features)')\n",
    "\n",
    "# Add value labels on bars\n",
    "for i, (bar, value) in enumerate(zip(bars, sorted_importances)):\n",
    "    if value > 0.01:  # Only label significant values to avoid clutter\n",
    "        plt.text(bar.get_width() + 0.01, i, f'{value:.3f}', \n",
    "                va='center', fontsize=8)\n",
    "\n",
    "plt.tight_layout()\n",
    "plt.savefig(\"plots/all_feature_importances.png\", dpi=300, bbox_inches='tight')\n",
    "plt.show()\n",
    "\n",
    "# Also create a summary table\n",
    "importance_df = pd.DataFrame({\n",
    "    'Feature': sorted_features,\n",
    "    'Importance': sorted_importances\n",
    "})\n",
    "print(importance_df.to_string(index=False))"
   ]
  },
  {
   "cell_type": "code",
   "execution_count": 19,
   "id": "f3d085fb",
   "metadata": {},
   "outputs": [
    {
     "data": {
      "text/plain": [
       "['models/student_future_grade_model.pkl']"
      ]
     },
     "execution_count": 19,
     "metadata": {},
     "output_type": "execute_result"
    }
   ],
   "source": [
    "# After training the model\n",
    "best_pipe.fit(X_train, y_train)\n",
    "\n",
    "# Define model output path\n",
    "MODEL_OUT = \"models/student_future_grade_model.pkl\"\n",
    "\n",
    "# Save the fitted model\n",
    "os.makedirs(\"models\", exist_ok=True)\n",
    "joblib.dump(best_pipe, MODEL_OUT)"
   ]
  },
  {
   "cell_type": "code",
   "execution_count": 21,
   "id": "18410376",
   "metadata": {},
   "outputs": [
    {
     "data": {
      "text/plain": [
       "['student_marks_pipeline.joblib']"
      ]
     },
     "execution_count": 21,
     "metadata": {},
     "output_type": "execute_result"
    }
   ],
   "source": [
    "from joblib import dump\n",
    "pipeline = Pipeline([\n",
    "    ('pre', preprocessor),\n",
    "    ('model', best_pipe.named_steps['model'])  # Get the trained model from best_pipe\n",
    "])\n",
    "dump(pipeline, 'student_marks_pipeline.joblib')\n"
   ]
  },
  {
   "cell_type": "code",
   "execution_count": 22,
   "id": "ca43431e",
   "metadata": {},
   "outputs": [
    {
     "name": "stdout",
     "output_type": "stream",
     "text": [
      "Model saved as models/student_future_grade_model.pkl\n"
     ]
    }
   ],
   "source": [
    "# Save model\n",
    "os.makedirs(\"models\", exist_ok=True)\n",
    "MODEL_OUT = \"models/student_future_grade_model.pkl\"\n",
    "joblib.dump(best_pipe, MODEL_OUT)\n",
    "print(f\"Model saved as {MODEL_OUT}\")"
   ]
  },
  {
   "cell_type": "code",
   "execution_count": 23,
   "id": "4f035304",
   "metadata": {},
   "outputs": [
    {
     "name": "stdout",
     "output_type": "stream",
     "text": [
      "Model verification successful!\n"
     ]
    }
   ],
   "source": [
    "# Verify the model is fitted\n",
    "y_pred = best_pipe.predict(X_test)\n",
    "print(\"Model verification successful!\")"
   ]
  },
  {
   "cell_type": "code",
   "execution_count": 24,
   "id": "afae8a78",
   "metadata": {},
   "outputs": [
    {
     "data": {
      "image/png": "[encoded data removed]",
      "text/plain": [
       "<Figure size 1500x600 with 2 Axes>"
      ]
     },
     "metadata": {},
     "output_type": "display_data"
    }
   ],
   "source": [
    "# Create visualizations\n",
    "os.makedirs(\"plots\", exist_ok=True)\n",
    "\n",
    "# Model comparison\n",
    "model_names = list(results.keys())\n",
    "rmse_scores = [results[name][\"RMSE\"] for name in model_names]\n",
    "r2_scores = [results[name][\"R2\"] for name in model_names]\n",
    "\n",
    "results_df = pd.DataFrame({\n",
    "    'Model': model_names,\n",
    "    'RMSE': rmse_scores,\n",
    "    'R2': r2_scores\n",
    "}).sort_values('RMSE')\n",
    "\n",
    "# Plot model comparison\n",
    "fig, (ax1, ax2) = plt.subplots(1, 2, figsize=(15, 6))\n",
    "\n",
    "# RMSE comparison\n",
    "bars = ax1.barh(range(len(results_df)), results_df['RMSE'], color='skyblue')\n",
    "ax1.set_yticks(range(len(results_df)))\n",
    "ax1.set_yticklabels(results_df['Model'])\n",
    "ax1.set_xlabel('RMSE (Lower is better)')\n",
    "ax1.set_title('Model Comparison by RMSE')\n",
    "for i, bar in enumerate(bars):\n",
    "    ax1.text(bar.get_width() + 0.01, bar.get_y() + bar.get_height()/2, \n",
    "             f'{results_df[\"RMSE\"].iloc[i]:.3f}', ha='left', va='center')\n",
    "\n",
    "# R² comparison\n",
    "bars = ax2.barh(range(len(results_df)), results_df['R2'], color='lightgreen')\n",
    "ax2.set_yticks(range(len(results_df)))\n",
    "ax2.set_yticklabels(results_df['Model'])\n",
    "ax2.set_xlabel('R² (Higher is better)')\n",
    "ax2.set_title('Model Comparison by R²')\n",
    "for i, bar in enumerate(bars):\n",
    "    ax2.text(bar.get_width() + 0.01, bar.get_y() + bar.get_height()/2, \n",
    "             f'{results_df[\"R2\"].iloc[i]:.3f}', ha='left', va='center')\n",
    "\n",
    "plt.tight_layout()\n",
    "plt.savefig(\"plots/model_comparison.png\", dpi=300, bbox_inches='tight')\n",
    "plt.show()"
   ]
  },
  {
   "cell_type": "code",
   "execution_count": 25,
   "id": "9dcdbb1f",
   "metadata": {},
   "outputs": [
    {
     "data": {
      "image/png": "[encoded data removed]",
      "text/plain": [
       "<Figure size 1000x600 with 1 Axes>"
      ]
     },
     "metadata": {},
     "output_type": "display_data"
    }
   ],
   "source": [
    "# Make predictions using the best model\n",
    "y_pred = best_pipe.predict(X_test)\n",
    "\n",
    "# Actual vs Predicted plot\n",
    "plt.figure(figsize=(10, 6))\n",
    "plt.scatter(y_test, y_pred, alpha=0.6)\n",
    "plt.plot([y_test.min(), y_test.max()], [y_test.min(), y_test.max()], 'r--', lw=2)\n",
    "plt.xlabel(\"Actual\")\n",
    "plt.ylabel(\"Predicted\")\n",
    "plt.title(f\"Actual vs Predicted - {best_name}\")\n",
    "plt.tight_layout()\n",
    "plt.savefig(\"plots/actual_vs_predicted.png\", dpi=300, bbox_inches='tight')\n",
    "plt.show()"
   ]
  },
  {
   "cell_type": "code",
   "execution_count": null,
   "id": "d12802ad",
   "metadata": {},
   "outputs": [
    {
     "data": {
      "image/png": "[encoded data removed]",
      "text/plain": [
       "<Figure size 1000x600 with 1 Axes>"
      ]
     },
     "metadata": {},
     "output_type": "display_data"
    }
   ],
   "source": [
    "# Residuals plot\n",
    "plt.figure(figsize=(10, 6))\n",
    "residuals = y_test - y_pred\n",
    "plt.hist(residuals, bins=30, edgecolor='black')\n",
    "plt.xlabel(\"Residuals\")\n",
    "plt.ylabel(\"Frequency\")\n",
    "plt.title(f\"Residuals Distribution - {best_name}\")\n",
    "plt.tight_layout()\n",
    "plt.savefig(\"plots/residuals_hist.png\", dpi=300, bbox_inches='tight')\n",
    "plt.show()"
   ]
  },
  {
   "cell_type": "code",
   "execution_count": null,
   "id": "24dbc4e5",
   "metadata": {},
   "outputs": [
    {
     "name": "stdout",
     "output_type": "stream",
     "text": [
      "Model comparison results saved to model_comparison_results.csv\n",
      "\n",
      "Training completed! The best model is: Gradient Boosting\n"
     ]
    }
   ],
   "source": [
    "# Save results to CSV\n",
    "results_df.to_csv(\"model_comparison_results.csv\", index=False)\n",
    "print(\"Model comparison results saved to model_comparison_results.csv\")\n",
    "print(\"\\nTraining completed! The best model is:\", best_name)"
   ]
  },
  {
   "cell_type": "markdown",
   "id": "322680e1",
   "metadata": {},
   "source": [
    "## Verify Model Fitting"
   ]
  },
  {
   "cell_type": "code",
   "execution_count": null,
   "id": "124e1edf",
   "metadata": {},
   "outputs": [
    {
     "name": "stdout",
     "output_type": "stream",
     "text": [
      "Linear Regression is fitted.\n",
      "Random Forest is fitted.\n",
      "Decision Tree is fitted.\n",
      "Gradient Boosting is fitted.\n"
     ]
    }
   ],
   "source": [
    "for name, model in models.items():\n",
    "    model.fit(X_train, y_train)\n",
    "    if hasattr(model, 'n_features_in_'):\n",
    "        print(f\"{name} is fitted.\")\n",
    "    else:\n",
    "        print(f\"{name} is NOT fitted.\")\n",
    "\n"
   ]
  }
 ],
 "metadata": {
  "kernelspec": {
   "display_name": "venv",
   "language": "python",
   "name": "python3"
  },
  "language_info": {
   "codemirror_mode": {
    "name": "ipython",
    "version": 3
   },
   "file_extension": ".py",
   "mimetype": "text/x-python",
   "name": "python",
   "nbconvert_exporter": "python",
   "pygments_lexer": "ipython3",
   "version": "3.13.3"
  }
 },
 "nbformat": 4,
 "nbformat_minor": 5
}
